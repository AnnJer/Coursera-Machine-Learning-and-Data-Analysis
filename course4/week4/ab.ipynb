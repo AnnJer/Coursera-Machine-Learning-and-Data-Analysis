{
 "cells": [
  {
   "cell_type": "code",
   "execution_count": 22,
   "metadata": {
    "collapsed": true
   },
   "outputs": [],
   "source": [
    "import numpy as np\n",
    "import pandas as pd\n",
    "\n",
    "import scipy\n",
    "from statsmodels.stats.weightstats import *"
   ]
  },
  {
   "cell_type": "code",
   "execution_count": 23,
   "metadata": {
    "collapsed": false
   },
   "outputs": [
    {
     "name": "stdout",
     "output_type": "stream",
     "text": [
      "Populating the interactive namespace from numpy and matplotlib\n"
     ]
    }
   ],
   "source": [
    "%pylab inline"
   ]
  },
  {
   "cell_type": "code",
   "execution_count": 2,
   "metadata": {
    "collapsed": true
   },
   "outputs": [],
   "source": [
    "data = pd.read_csv('ab_browser_test.csv')"
   ]
  },
  {
   "cell_type": "code",
   "execution_count": 3,
   "metadata": {
    "collapsed": false
   },
   "outputs": [
    {
     "data": {
      "text/plain": [
       "(566134, 6)"
      ]
     },
     "execution_count": 3,
     "metadata": {},
     "output_type": "execute_result"
    }
   ],
   "source": [
    "data.shape"
   ]
  },
  {
   "cell_type": "code",
   "execution_count": 4,
   "metadata": {
    "collapsed": false
   },
   "outputs": [
    {
     "data": {
      "text/html": [
       "<div>\n",
       "<table border=\"1\" class=\"dataframe\">\n",
       "  <thead>\n",
       "    <tr style=\"text-align: right;\">\n",
       "      <th></th>\n",
       "      <th>userID</th>\n",
       "      <th>browser</th>\n",
       "      <th>slot</th>\n",
       "      <th>n_clicks</th>\n",
       "      <th>n_queries</th>\n",
       "      <th>n_nonclk_queries</th>\n",
       "    </tr>\n",
       "  </thead>\n",
       "  <tbody>\n",
       "    <tr>\n",
       "      <th>0</th>\n",
       "      <td>1</td>\n",
       "      <td>Browser #2</td>\n",
       "      <td>exp</td>\n",
       "      <td>23</td>\n",
       "      <td>32</td>\n",
       "      <td>19</td>\n",
       "    </tr>\n",
       "    <tr>\n",
       "      <th>1</th>\n",
       "      <td>3</td>\n",
       "      <td>Browser #4</td>\n",
       "      <td>exp</td>\n",
       "      <td>3</td>\n",
       "      <td>4</td>\n",
       "      <td>2</td>\n",
       "    </tr>\n",
       "    <tr>\n",
       "      <th>2</th>\n",
       "      <td>5</td>\n",
       "      <td>Browser #4</td>\n",
       "      <td>exp</td>\n",
       "      <td>29</td>\n",
       "      <td>35</td>\n",
       "      <td>16</td>\n",
       "    </tr>\n",
       "    <tr>\n",
       "      <th>3</th>\n",
       "      <td>6</td>\n",
       "      <td>Browser #4</td>\n",
       "      <td>control</td>\n",
       "      <td>12</td>\n",
       "      <td>6</td>\n",
       "      <td>0</td>\n",
       "    </tr>\n",
       "    <tr>\n",
       "      <th>4</th>\n",
       "      <td>7</td>\n",
       "      <td>Browser #4</td>\n",
       "      <td>exp</td>\n",
       "      <td>54</td>\n",
       "      <td>68</td>\n",
       "      <td>30</td>\n",
       "    </tr>\n",
       "  </tbody>\n",
       "</table>\n",
       "</div>"
      ],
      "text/plain": [
       "   userID     browser     slot  n_clicks  n_queries  n_nonclk_queries\n",
       "0       1  Browser #2      exp        23         32                19\n",
       "1       3  Browser #4      exp         3          4                 2\n",
       "2       5  Browser #4      exp        29         35                16\n",
       "3       6  Browser #4  control        12          6                 0\n",
       "4       7  Browser #4      exp        54         68                30"
      ]
     },
     "execution_count": 4,
     "metadata": {},
     "output_type": "execute_result"
    }
   ],
   "source": [
    "data.head()"
   ]
  },
  {
   "cell_type": "markdown",
   "metadata": {},
   "source": [
    "Описание данных:\n",
    "\n",
    "- userID: уникальный идентификатор пользователя\n",
    "- browser: браузер, который использовал userID\n",
    "- slot: в каком статусе пользователь участвовал в исследовании (exp = видел измененную страницу, control = видел неизменную страницу)\n",
    "- n_clicks: количество кликов, которые пользоваль совершил за n_queries\n",
    "- n_queries: количество запросов, который совершил userID, пользуясь браузером browser\n",
    "- n_nonclk_queries: количество запросов пользователя, в которых им не было совершено ни одного клика\n",
    "\n",
    "Обращаем ваше внимание, что не все люди используют только один браузер, поэтому в столбце userID есть повторяющиеся идентификаторы. В предлагаемых данных уникальным является сочетание userID и browser."
   ]
  },
  {
   "cell_type": "markdown",
   "metadata": {},
   "source": [
    "# 1\n",
    "Основная метрика, на которой мы сосредоточимся в этой работе, — это количество пользовательских кликов на web-странице в зависимости от тестируемого изменения этой страницы.\n",
    "\n",
    "Посчитайте, насколько в группе exp больше пользовательских кликов по сравнению с группой control в процентах от числа кликов в контрольной группе.\n",
    "\n",
    "Полученный процент округлите до третьего знака после запятой."
   ]
  },
  {
   "cell_type": "code",
   "execution_count": 7,
   "metadata": {
    "collapsed": false
   },
   "outputs": [
    {
     "data": {
      "text/plain": [
       "1.6135689824415778"
      ]
     },
     "execution_count": 7,
     "metadata": {},
     "output_type": "execute_result"
    }
   ],
   "source": [
    "100.0*sum(data.n_clicks[data.slot == 'exp'])/sum(data.n_clicks[data.slot == 'control']) - 100.0"
   ]
  },
  {
   "cell_type": "markdown",
   "metadata": {},
   "source": [
    "# 2\n",
    "Давайте попробуем посмотреть более внимательно на разницу между двумя группами (control и exp) относительно количества пользовательских кликов.\n",
    "\n",
    "Для этого постройте с помощью бутстрепа 95% доверительный интервал для средних значений и медиан количества кликов в каждой из двух групп. Отметьте все верные утверждения."
   ]
  },
  {
   "cell_type": "code",
   "execution_count": 8,
   "metadata": {
    "collapsed": true
   },
   "outputs": [],
   "source": [
    "def get_bootstrap_samples(data, n_samples):\n",
    "    indices = np.random.randint(0, len(data), (n_samples, len(data)))\n",
    "    samples = data[indices]\n",
    "    return samples"
   ]
  },
  {
   "cell_type": "code",
   "execution_count": 9,
   "metadata": {
    "collapsed": true
   },
   "outputs": [],
   "source": [
    "def stat_intervals(stat, alpha):\n",
    "    boundaries = np.percentile(stat, [100 * alpha / 2., 100 * (1 - alpha / 2.)])\n",
    "    return boundaries"
   ]
  },
  {
   "cell_type": "code",
   "execution_count": 10,
   "metadata": {
    "collapsed": true
   },
   "outputs": [],
   "source": [
    "exp_clicks = data.n_clicks[data.slot == 'exp'].values\n",
    "control_clicks = data.n_clicks[data.slot == 'control'].values"
   ]
  },
  {
   "cell_type": "code",
   "execution_count": 11,
   "metadata": {
    "collapsed": false
   },
   "outputs": [
    {
     "name": "stdout",
     "output_type": "stream",
     "text": [
      "95% confidence interval for the exp median: [ 5.  5.]\n",
      "95% confidence interval for the control median: [ 4.  4.]\n"
     ]
    }
   ],
   "source": [
    "np.random.seed(0)\n",
    "\n",
    "exp_clicks_median_scores = map(np.median, get_bootstrap_samples(exp_clicks, 1000))\n",
    "control_clicks_median_scores = map(np.median, get_bootstrap_samples(control_clicks, 1000))\n",
    "\n",
    "print \"95% confidence interval for the exp median:\",  stat_intervals(exp_clicks_median_scores, 0.05)\n",
    "print \"95% confidence interval for the control median:\",  stat_intervals(control_clicks_median_scores, 0.05)"
   ]
  },
  {
   "cell_type": "code",
   "execution_count": 13,
   "metadata": {
    "collapsed": false
   },
   "outputs": [
    {
     "name": "stdout",
     "output_type": "stream",
     "text": [
      "delta median 1.0\n"
     ]
    }
   ],
   "source": [
    "print \"delta median\", np.median(exp_clicks) - np.median(control_clicks)"
   ]
  },
  {
   "cell_type": "code",
   "execution_count": 14,
   "metadata": {
    "collapsed": true
   },
   "outputs": [],
   "source": [
    "median_scores = zip(map(np.median, exp_clicks_median_scores), map(np.median, control_clicks_median_scores))"
   ]
  },
  {
   "cell_type": "code",
   "execution_count": 15,
   "metadata": {
    "collapsed": true
   },
   "outputs": [],
   "source": [
    "delta_median_scores = map(lambda x: x[1] - x[0], median_scores)"
   ]
  },
  {
   "cell_type": "code",
   "execution_count": 16,
   "metadata": {
    "collapsed": false
   },
   "outputs": [
    {
     "name": "stdout",
     "output_type": "stream",
     "text": [
      "95% confidence interval for the difference between medians: [-1. -1.]\n"
     ]
    }
   ],
   "source": [
    "print \"95% confidence interval for the difference between medians:\",  stat_intervals(delta_median_scores, 0.05)"
   ]
  },
  {
   "cell_type": "code",
   "execution_count": 12,
   "metadata": {
    "collapsed": false
   },
   "outputs": [
    {
     "name": "stdout",
     "output_type": "stream",
     "text": [
      "95% confidence interval for the exp median: [ 11.5086867   11.66089388]\n",
      "95% confidence interval for the control median: [ 11.20795095  11.35742732]\n"
     ]
    }
   ],
   "source": [
    "np.random.seed(0)\n",
    "\n",
    "exp_clicks_mean_scores = map(np.mean, get_bootstrap_samples(exp_clicks, 1000))\n",
    "control_clicks_mean_scores = map(np.mean, get_bootstrap_samples(control_clicks, 1000))\n",
    "\n",
    "print \"95% confidence interval for the exp median:\",  stat_intervals(exp_clicks_mean_scores, 0.05)\n",
    "print \"95% confidence interval for the control median:\",  stat_intervals(control_clicks_mean_scores, 0.05)"
   ]
  },
  {
   "cell_type": "code",
   "execution_count": 13,
   "metadata": {
    "collapsed": false
   },
   "outputs": [
    {
     "name": "stdout",
     "output_type": "stream",
     "text": [
      "delta median 1.0\n"
     ]
    }
   ],
   "source": [
    "print \"delta mean\", np.mean(exp_clicks) - np.mean(control_clicks)"
   ]
  },
  {
   "cell_type": "code",
   "execution_count": 17,
   "metadata": {
    "collapsed": true
   },
   "outputs": [],
   "source": [
    "mean_scores = zip(map(np.mean, exp_clicks_mean_scores), map(np.mean, control_clicks_mean_scores))"
   ]
  },
  {
   "cell_type": "code",
   "execution_count": 18,
   "metadata": {
    "collapsed": true
   },
   "outputs": [],
   "source": [
    "delta_mean_scores = map(lambda x: x[1] - x[0], mean_scores)"
   ]
  },
  {
   "cell_type": "code",
   "execution_count": 19,
   "metadata": {
    "collapsed": false
   },
   "outputs": [
    {
     "name": "stdout",
     "output_type": "stream",
     "text": [
      "95% confidence interval for the difference between medians: [-0.40475697 -0.19172563]\n"
     ]
    }
   ],
   "source": [
    "print \"95% confidence interval for the difference between medians:\",  stat_intervals(delta_mean_scores, 0.05)"
   ]
  },
  {
   "cell_type": "markdown",
   "metadata": {},
   "source": [
    "# 3\n",
    "Поскольку данных достаточно много (порядка полумиллиона уникальных пользователей), отличие в несколько процентов может быть не только практически значимым, но и значимым статистически. Последнее утверждение нуждается в дополнительной проверке.\n",
    "\n",
    "Посмотрите на выданные вам данные и выберите все верные варианты ответа относительно проверки гипотезы о равенстве среднего количества кликов в группах."
   ]
  },
  {
   "cell_type": "code",
   "execution_count": null,
   "metadata": {
    "collapsed": true
   },
   "outputs": [],
   "source": []
  },
  {
   "cell_type": "markdown",
   "metadata": {},
   "source": [
    "# 4\n",
    "t-критерий Стьюдента имеет множество достоинств, и потому его достаточно часто применяют в AB экспериментах. Иногда его применение может быть необоснованно из-за сильной скошенности распределения данных.\n",
    "\n",
    "Давайте постараемся понять, когда t-критерий можно применять и как это проверить на реальных данных.\n",
    "\n",
    "Для простоты рассмотрим одновыборочный t-критерий. Его статистика имеет вид X¯−μS2/n√, то есть чтобы действительно предположения t-критерия выполнялись необходимо, чтобы:\n",
    "\n",
    "X¯ — среднее значение в выборке — было распределено нормально N(μ,σ2n)\n",
    "nσ2S2 — несмещенная оценка дисперсии c масштабирующим коэффициентом — была распределена по хи-квадрат c n−1 степенями свободы χ2(n−1)\n",
    "Простое доказательство необходимости и достаточности этого требования можно посмотреть в самом последнем абзаце этого вопроса. Усвоение этого доказательства не обязательно для выполнения задания.\n",
    "\n",
    "Оба этих предположения можно проверить с помощью бутстрепа. Ограничимся сейчас только контрольной группой, в которой распределение кликов будем называть данными в рамках данного вопроса.\n",
    "\n",
    "Поскольку мы не знаем истинного распределения генеральной совокупности, мы можем применить бутстреп, чтобы понять, как распределены среднее значение и выборочная дисперсия. Для этого\n",
    "\n",
    "Получите из данных n_boot_samples псевдовыборок.\n",
    "По каждой из этих выборок посчитайте среднее и сумму квадратов отклонения от выборочного среднего (control_boot_chi_squared)\n",
    "Для получившегося вектора средних значений из n_boot_samples постройте q-q plot с помощью scipy.stats.probplot для нормального распределения\n",
    "Для получившегося вектора сумм квадратов отклонения от выборочного среднего постройте qq-plot с помощью scipy.stats.probplot для хи-квадрат распределения с помощью команды\n",
    "\n",
    "\u0001\u0001\n",
    "1\n",
    "2\n",
    "scipy.stats.probplot(control_boot_chi_squared, dist=\"chi2\", \n",
    "                     sparams=(n-1), plot=plt)\n",
    "Где sparams=(n-1) означают число степеней свободы = длине выборки - 1.\n",
    "\n",
    "Чтобы получить такой же ответ, как у нас, зафиксируйте seed и количество псевдовыборок:\n",
    "\n",
    "\n",
    "\u0001\u0001\n",
    "1\n",
    "2\n",
    "np.random.seed(0)\n",
    "n_boot_samples = 500\n",
    "В качестве ответа отметьте верные утвердения о значениях R2, которые генерирует scipy.stats.probplot при отображении qq-графиков: одно c графика для среднего и одно с графика для выборочной суммы квадратов отклонения от выборочной суммы.\n",
    "\n",
    "\n",
    "\n",
    "Почему мы проверяем именно такие условия?\n",
    "\n",
    "В исходной постановке t-критерий требует нормальности распределения Xi. Именно из-за этого предположения мы имеем, что ∑iXi∼N(nμ,nσ2) в силу линейности матожидания, независимости всех Xi между собой и того факта, что сумма нескольких нормальных случайных величин также нормальна.\n",
    "\n",
    "Поэтому, пользуясь опять формальными свойствами матожидания и дисперсии можем записать, что 1n∑iXi−μ ∼ N(0,σ2n)\n",
    "\n",
    "Заметим теперь, что следующие распределения эквивалентны N(0,σ2n)∼σ2n−−√N(0,1)\n",
    "То есть другими словами мы получили, что исходная статистика X¯−μS2/n√ распределена как N(0,1)S2nnσ2√ ∼ N(0,1)S2σ2√\n",
    "Вспомним, что распределение Стьюдента с n−1 степенями свободы определяется как N(0,1)χ2/(n−1)√. Поэтому и требования, которые накладываются, имеют вид, указанный в начале этого вопроса.\n",
    "\n",
    "Полезно, однако, заметить, что можно подставить в числитель и знаменатель любые случайные величины, распределенные по нормальному закону и по Хи-квадрат соответственно, для этого необязательно, чтобы именно Xi были распределены нормально. Поэтому, если мы убедимся в том, что, действительно, числитель и знаменатель распределены образом, указанным выше, то можно смело использовать t-критерий Стьюдента."
   ]
  },
  {
   "cell_type": "code",
   "execution_count": 27,
   "metadata": {
    "collapsed": true
   },
   "outputs": [],
   "source": [
    "np.random.seed(0)\n",
    "n_boot_samples = 500"
   ]
  },
  {
   "cell_type": "code",
   "execution_count": 28,
   "metadata": {
    "collapsed": false
   },
   "outputs": [],
   "source": [
    "control_clicks_mean_scores = map(np.mean, get_bootstrap_samples(control_clicks, n_boot_samples))\n",
    "control_boot_chi_squared = map(lambda x: np.std(x) ** 2, get_bootstrap_samples(control_clicks, n_boot_samples))"
   ]
  },
  {
   "cell_type": "code",
   "execution_count": 29,
   "metadata": {
    "collapsed": false
   },
   "outputs": [
    {
     "data": {
      "image/png": "[encoded data removed]",
      "text/plain": [
       "<matplotlib.figure.Figure at 0x7f65e8a4d5d0>"
      ]
     },
     "metadata": {},
     "output_type": "display_data"
    }
   ],
   "source": [
    "stats.probplot(control_clicks_mean_scores, dist=\"norm\", plot=pylab)\n",
    "pylab.show()"
   ]
  },
  {
   "cell_type": "code",
   "execution_count": 31,
   "metadata": {
    "collapsed": true
   },
   "outputs": [],
   "source": [
    "n = len(control_clicks)"
   ]
  },
  {
   "cell_type": "code",
   "execution_count": 32,
   "metadata": {
    "collapsed": false
   },
   "outputs": [
    {
     "data": {
      "text/plain": [
       "((array([ 282301.08823053,  282512.70968154,  282631.75042722,\n",
       "          282716.17888972,  282782.34505977,  282837.12445289,\n",
       "          282884.08540285,  282925.32718791,  282962.19330371,\n",
       "          282995.59740263,  283026.19007281,  283054.45161347,\n",
       "          283080.74708393,  283105.36069052,  283128.51819019,\n",
       "          283150.40200687,  283171.16173795,  283190.92164624,\n",
       "          283209.78611976,  283227.84373082,  283245.17030322,\n",
       "          283261.83126851,  283277.88349787,  283293.37674668,\n",
       "          283308.35480452,  283322.85642116,  283336.91605836,\n",
       "          283350.56450624,  283363.82939198,  283376.73560272,\n",
       "          283389.3056399 ,  283401.55991797,  283413.51701748,\n",
       "          283425.19389996,  283436.60609345,  283447.76785091,\n",
       "          283458.69228762,  283469.39150063,  283479.87667217,\n",
       "          283490.15816137,  283500.24558337,  283510.14788029,\n",
       "          283519.87338263,  283529.42986521,  283538.82459548,\n",
       "          283548.06437784,  283557.155592  ,  283566.10422864,\n",
       "          283574.91592032,  283583.59597023,  283592.14937737,\n",
       "          283600.58086   ,  283608.89487617,  283617.0956433 ,\n",
       "          283625.18715495,  283633.17319667,  283641.05736075,\n",
       "          283648.84305899,  283656.53353489,  283664.1318747 ,\n",
       "          283671.64101765,  283679.06376515,  283686.40278946,\n",
       "          283693.6606417 ,  283700.83975925,  283707.94247208,\n",
       "          283714.97100978,  283721.92750685,  283728.81400807,\n",
       "          283735.63247408,  283742.38478522,  283749.07274678,\n",
       "          283755.69809249,  283762.26248844,  283768.76753657,\n",
       "          283775.21477823,  283781.60569697,  283787.94172171,\n",
       "          283794.224229  ,  283800.45454661,  283806.63395429,\n",
       "          283812.76368767,  283818.8449394 ,  283824.87886149,\n",
       "          283830.86656693,  283836.80913192,  283842.70759697,\n",
       "          283848.56296899,  283854.37622253,  283860.14830126,\n",
       "          283865.88011899,  283871.57256164,  283877.22648756,\n",
       "          283882.84272965,  283888.42209535,  283893.96536841,\n",
       "          283899.4733098 ,  283904.94665826,  283910.38613149,\n",
       "          283915.79242678,  283921.16622213,  283926.5081763 ,\n",
       "          283931.81893077,  283937.09910887,  283942.34931748,\n",
       "          283947.57014762,  283952.7621745 ,  283957.92595853,\n",
       "          283963.06204556,  283968.17096772,  283973.25324374,\n",
       "          283978.3093793 ,  283983.33986777,  283988.34519034,\n",
       "          283993.32581638,  283998.28220435,  284003.21480181,\n",
       "          284008.12404586,  284013.0103631 ,  284017.87417071,\n",
       "          284022.71587622,  284027.53587792,  284032.33456531,\n",
       "          284037.11231919,  284041.86951227,  284046.60650873,\n",
       "          284051.32366553,  284056.02133142,  284060.69984826,\n",
       "          284065.35955067,  284070.00076627,  284074.62381602,\n",
       "          284079.22901456,  284083.81667016,  284088.38708451,\n",
       "          284092.94055426,  284097.47736956,  284101.99781524,\n",
       "          284106.50217069,  284110.99071   ,  284115.46370205,\n",
       "          284119.92141101,  284124.36409595,  284128.79201129,\n",
       "          284133.20540698,  284137.60452839,  284141.98961669,\n",
       "          284146.36090858,  284150.7186372 ,  284155.06303114,\n",
       "          284159.39431544,  284163.71271131,  284168.01843618,\n",
       "          284172.31170433,  284176.59272601,  284180.86170828,\n",
       "          284185.11885518,  284189.36436724,  284193.59844175,\n",
       "          284197.82127355,  284202.0330539 ,  284206.2339715 ,\n",
       "          284210.42421212,  284214.60395886,  284218.77339213,\n",
       "          284222.93268966,  284227.0820269 ,  284231.22157657,\n",
       "          284235.35150906,  284239.47199235,  284243.58319248,\n",
       "          284247.68527287,  284251.77839472,  284255.86271756,\n",
       "          284259.93839864,  284264.00559284,  284268.06445371,\n",
       "          284272.11513245,  284276.1577786 ,  284280.19253983,\n",
       "          284284.21956192,  284288.23898913,  284292.25096396,\n",
       "          284296.25562713,  284300.25311792,  284304.24357426,\n",
       "          284308.22713194,  284312.203926  ,  284316.17408954,\n",
       "          284320.13775432,  284324.09505091,  284328.04610872,\n",
       "          284331.99105531,  284335.93001732,  284339.86312001,\n",
       "          284343.79048788,  284347.71224352,  284351.62850909,\n",
       "          284355.53940509,  284359.44505137,  284363.34556667,\n",
       "          284367.24106835,  284371.13167304,  284375.01749657,\n",
       "          284378.89865337,  284382.77525764,  284386.64742198,\n",
       "          284390.51525862,  284394.37887876,  284398.23839289,\n",
       "          284402.0939103 ,  284405.94554036,  284409.79339103,\n",
       "          284413.6375694 ,  284417.47818266,  284421.31533664,\n",
       "          284425.14913685,  284428.97968786,  284432.80709438,\n",
       "          284436.63145928,  284440.45288644,  284444.27147771,\n",
       "          284448.08733521,  284451.90056051,  284455.71125464,\n",
       "          284459.51951803,  284463.32545082,  284467.12915271,\n",
       "          284470.93072282,  284474.73026016,  284478.5278633 ,\n",
       "          284482.3236301 ,  284486.1176589 ,  284489.91004666,\n",
       "          284493.70089115,  284497.49028889,  284501.27833657,\n",
       "          284505.06513086,  284508.85076779,  284512.63534358,\n",
       "          284516.41895383,  284520.20169435,  284523.98366046,\n",
       "          284527.76494779,  284531.54565136,  284535.32586644,\n",
       "          284539.10568759,  284542.88521037,  284546.6645295 ,\n",
       "          284550.44373991,  284554.22293588,  284558.00221305,\n",
       "          284561.78166602,  284565.56138972,  284569.34147863,\n",
       "          284573.12202838,  284576.90313374,  284580.68488979,\n",
       "          284584.4673919 ,  284588.25073558,  284592.03501622,\n",
       "          284595.82032962,  284599.6067715 ,  284603.39443829,\n",
       "          284607.18342617,  284610.97383139,  284614.76575107,\n",
       "          284618.5592823 ,  284622.35452197,  284626.15156826,\n",
       "          284629.95051876,  284633.75147193,  284637.55452661,\n",
       "          284641.35978143,  284645.16733589,  284648.97729007,\n",
       "          284652.78974421,  284656.60479855,  284660.42255482,\n",
       "          284664.24311463,  284668.06657994,  284671.89305361,\n",
       "          284675.72263881,  284679.5554394 ,  284683.39155981,\n",
       "          284687.23110514,  284691.07418088,  284694.92089371,\n",
       "          284698.77135014,  284702.6256582 ,  284706.48392634,\n",
       "          284710.34626357,  284714.21277988,  284718.08358599,\n",
       "          284721.95879349,  284725.83851488,  284729.72286302,\n",
       "          284733.61195243,  284737.50589825,  284741.40481611,\n",
       "          284745.30882337,  284749.21803794,  284753.13257877,\n",
       "          284757.05256582,  284760.97812061,  284764.9093651 ,\n",
       "          284768.84642273,  284772.78941837,  284776.7384775 ,\n",
       "          284780.69372756,  284784.65529659,  284788.62331428,\n",
       "          284792.59791181,  284796.57922118,  284800.56737649,\n",
       "          284804.56251308,  284808.56476733,  284812.57427769,\n",
       "          284816.59118407,  284820.6156278 ,  284824.64775184,\n",
       "          284828.68770116,  284832.73562225,  284836.7916635 ,\n",
       "          284840.85597492,  284844.92870841,  284849.01001805,\n",
       "          284853.10006   ,  284857.19899184,  284861.30697355,\n",
       "          284865.42416761,  284869.55073798,  284873.68685152,\n",
       "          284877.83267696,  284881.98838561,  284886.15415097,\n",
       "          284890.33014955,  284894.51655955,  284898.71356263,\n",
       "          284902.92134273,  284907.1400865 ,  284911.36998361,\n",
       "          284915.6112265 ,  284919.86401081,  284924.12853475,\n",
       "          284928.40500036,  284932.69361222,  284936.99457869,\n",
       "          284941.30811142,  284945.63442553,  284949.97373971,\n",
       "          284954.32627647,  284958.69226171,  284963.07192596,\n",
       "          284967.46550303,  284971.87323122,  284976.29535295,\n",
       "          284980.73211511,  284985.1837689 ,  284989.65057038,\n",
       "          284994.13278007,  284998.63066342,  285003.14449101,\n",
       "          285007.67453884,  285012.22108735,  285016.78442333,\n",
       "          285021.36483892,  285025.96263192,  285030.5781063 ,\n",
       "          285035.21157217,  285039.8633456 ,  285044.53374988,\n",
       "          285049.22311467,  285053.93177624,  285058.66007876,\n",
       "          285063.40837335,  285068.17701866,  285072.96638148,\n",
       "          285077.77683692,  285082.60876777,  285087.46256607,\n",
       "          285092.33863283,  285097.237378  ,  285102.15922133,\n",
       "          285107.10459233,  285112.07393062,  285117.06768677,\n",
       "          285122.08632191,  285127.13030871,  285132.20013152,\n",
       "          285137.29628677,  285142.41928337,  285147.56964355,\n",
       "          285152.74790267,  285157.95461042,  285163.19033071,\n",
       "          285168.45564275,  285173.75114112,  285179.07743691,\n",
       "          285184.43515795,  285189.82494933,  285195.24747474,\n",
       "          285200.70341646,  285206.19347649,  285211.71837747,\n",
       "          285217.27886312,  285222.87569969,  285228.50967586,\n",
       "          285234.18160515,  285239.89232568,  285245.6427019 ,\n",
       "          285251.43362576,  285257.26601741,  285263.14082721,\n",
       "          285269.05903631,  285275.02165845,  285281.02974183,\n",
       "          285287.08436983,  285293.18666352,  285299.33778287,\n",
       "          285305.53892898,  285311.79134601,  285318.09632335,\n",
       "          285324.45519761,  285330.8693556 ,  285337.34023614,\n",
       "          285343.86933363,  285350.45820053,  285357.1084502 ,\n",
       "          285363.82176095,  285370.59987918,  285377.44462285,\n",
       "          285384.35788651,  285391.34164497,  285398.39795792,\n",
       "          285405.52897583,  285412.73694452,  285420.02421126,\n",
       "          285427.39323159,  285434.84657559,  285442.38693545,\n",
       "          285450.01713365,  285457.7401315 ,  285465.55903849,\n",
       "          285473.47712259,  285481.49782146,  285489.62475476,\n",
       "          285497.86173691,  285506.21279218,  285514.68217007,\n",
       "          285523.27436317,  285531.99412617,  285540.84649685,\n",
       "          285549.83681958,  285558.97077108,  285568.25438875,\n",
       "          285577.69410262,  285587.29677053,  285597.06971777,\n",
       "          285607.02078053,  285617.15835618,  285627.49145821,\n",
       "          285638.02977911,  285648.78376144,  285659.76467812,\n",
       "          285670.98472463,  285682.45712343,  285694.19624417,\n",
       "          285706.21774291,  285718.53872156,  285731.17791509,\n",
       "          285744.15590841,  285757.49539182,  285771.2214624 ,\n",
       "          285785.36198134,  285799.94800109,  285815.01427872,\n",
       "          285830.59989762,  285846.74902681,  285863.51185507,\n",
       "          285880.94575255,  285899.11672766,  285918.10127817,\n",
       "          285937.98876837,  285958.88452696,  285980.91394468,\n",
       "          286004.22798799,  286029.01076447,  286055.49013346,\n",
       "          286083.95297305,  286114.76781014,  286148.41955654,\n",
       "          286185.56512398,  286227.12716329,  286274.46259759,\n",
       "          286329.69203883,  286396.4207913 ,  286481.59729032,\n",
       "          286601.75026261,  286815.51529803]),\n",
       "  array([ 393.08463088,  396.058377  ,  396.55774243,  396.61131713,\n",
       "          396.75370072,  397.31461708,  397.76598751,  397.81258175,\n",
       "          398.13856682,  398.1590004 ,  398.18823059,  398.47077188,\n",
       "          399.09549086,  399.36863862,  399.39029491,  399.47057477,\n",
       "          399.58679943,  399.62118113,  399.82912884,  399.97915138,\n",
       "          400.36003683,  400.59109262,  400.62700231,  400.63488109,\n",
       "          400.7067302 ,  400.72924798,  400.77254953,  401.19627167,\n",
       "          401.20048565,  401.20924096,  401.38061785,  401.4084424 ,\n",
       "          401.54330697,  401.58148895,  401.73996512,  401.74254616,\n",
       "          401.88326582,  401.89687074,  402.05100578,  402.0817119 ,\n",
       "          402.28764488,  402.33617928,  402.44528574,  402.46350503,\n",
       "          402.68054933,  402.7374044 ,  402.84924712,  402.85363174,\n",
       "          402.8979422 ,  403.01536906,  403.0814442 ,  403.08453092,\n",
       "          403.14101405,  403.2368239 ,  403.31120162,  403.37808057,\n",
       "          403.52580498,  403.59876454,  403.79487093,  403.8548742 ,\n",
       "          403.98514214,  403.99312746,  404.09861777,  404.10122397,\n",
       "          404.14568704,  404.15775473,  404.30578084,  404.387349  ,\n",
       "          404.42420109,  404.57590148,  404.57820299,  404.61056796,\n",
       "          404.6598711 ,  404.79354424,  404.83023283,  404.87796014,\n",
       "          404.89615885,  404.92460233,  404.93948621,  405.02846737,\n",
       "          405.06429361,  405.18617902,  405.2835899 ,  405.35221558,\n",
       "          405.38326061,  405.38898226,  405.53391769,  405.54319136,\n",
       "          405.61453747,  405.62602685,  405.65383525,  405.68235119,\n",
       "          405.74787012,  405.7675364 ,  405.78086958,  405.8076577 ,\n",
       "          405.87085047,  405.87573269,  405.91261843,  405.93848423,\n",
       "          405.96417938,  405.96728346,  406.01312053,  406.02984282,\n",
       "          406.04424189,  406.09781007,  406.25185219,  406.26799409,\n",
       "          406.37504683,  406.45422752,  406.55923392,  406.57139001,\n",
       "          406.62454311,  406.6265172 ,  406.64003311,  406.65945839,\n",
       "          406.67948108,  406.79045781,  406.87362196,  406.88052152,\n",
       "          407.00909581,  407.04164168,  407.05697706,  407.11587027,\n",
       "          407.13471481,  407.13775265,  407.14733059,  407.16841094,\n",
       "          407.18802204,  407.25961198,  407.28890709,  407.43930296,\n",
       "          407.46348221,  407.52502367,  407.53771926,  407.55836539,\n",
       "          407.56203617,  407.56438946,  407.65564811,  407.67088093,\n",
       "          407.67536499,  407.70545722,  407.93988217,  407.96408608,\n",
       "          408.01512483,  408.10008468,  408.10192751,  408.15496846,\n",
       "          408.19010943,  408.21055969,  408.21655254,  408.31935806,\n",
       "          408.37074677,  408.44198562,  408.52144109,  408.52288799,\n",
       "          408.56012853,  408.61500443,  408.63281666,  408.66559895,\n",
       "          408.71334628,  408.77902316,  408.79477974,  408.79970332,\n",
       "          408.8595168 ,  408.86064095,  408.90533406,  408.93553544,\n",
       "          408.94711931,  408.98020791,  409.03530086,  409.03699497,\n",
       "          409.13481672,  409.1579276 ,  409.16537659,  409.17381661,\n",
       "          409.18540447,  409.21696978,  409.21886877,  409.22115984,\n",
       "          409.24737022,  409.25017522,  409.36097031,  409.36838858,\n",
       "          409.39465768,  409.43092655,  409.53513925,  409.56217578,\n",
       "          409.59280448,  409.60666579,  409.64435923,  409.70382411,\n",
       "          409.71838857,  409.74251054,  409.82275592,  409.8347324 ,\n",
       "          409.93259274,  409.9485911 ,  409.97693516,  410.00067552,\n",
       "          410.04450342,  410.12328338,  410.13796112,  410.14886796,\n",
       "          410.18114373,  410.23611414,  410.2424575 ,  410.24870347,\n",
       "          410.27218892,  410.27253871,  410.2788804 ,  410.28860857,\n",
       "          410.30150742,  410.3177852 ,  410.33969954,  410.37508887,\n",
       "          410.42558031,  410.43232126,  410.44270799,  410.46644775,\n",
       "          410.58027904,  410.59914939,  410.60348178,  410.60371526,\n",
       "          410.62272378,  410.63606707,  410.68501706,  410.68978063,\n",
       "          410.71351781,  410.7805796 ,  410.90555859,  410.9312035 ,\n",
       "          410.9728009 ,  411.08461819,  411.10954769,  411.10966743,\n",
       "          411.20519399,  411.24869545,  411.25772381,  411.27781601,\n",
       "          411.30014754,  411.31381932,  411.33005623,  411.36048914,\n",
       "          411.36106969,  411.36342038,  411.36968321,  411.38010312,\n",
       "          411.49335032,  411.49513239,  411.53264604,  411.65333532,\n",
       "          411.66497345,  411.67451731,  411.78402434,  411.80012395,\n",
       "          411.85454372,  411.85553887,  411.87223717,  411.87662406,\n",
       "          411.90532075,  411.92650941,  411.97120953,  411.99241185,\n",
       "          412.08500229,  412.14422637,  412.16218482,  412.18783593,\n",
       "          412.27706527,  412.29692521,  412.32494034,  412.35838328,\n",
       "          412.37142149,  412.4108607 ,  412.41516582,  412.41870471,\n",
       "          412.46235759,  412.46296029,  412.49927822,  412.51907113,\n",
       "          412.59604103,  412.63667602,  412.64641246,  412.65368982,\n",
       "          412.6595423 ,  412.73241134,  412.74795822,  412.75519598,\n",
       "          412.76189138,  412.76726206,  412.79166598,  412.81856206,\n",
       "          412.82823267,  412.86514147,  412.87232089,  412.91436887,\n",
       "          412.91469574,  412.94180043,  412.96064829,  412.97021701,\n",
       "          413.00849417,  413.04357543,  413.12099907,  413.15169534,\n",
       "          413.24752364,  413.26849599,  413.34927852,  413.38261741,\n",
       "          413.41984208,  413.51359226,  413.53070365,  413.57756154,\n",
       "          413.62636811,  413.69237276,  413.6982933 ,  413.72899847,\n",
       "          413.83087042,  413.88787877,  413.91250351,  413.94174983,\n",
       "          413.94768993,  413.95404896,  414.05805565,  414.10430017,\n",
       "          414.13637097,  414.15177008,  414.20423224,  414.22758693,\n",
       "          414.26179685,  414.28184011,  414.29673889,  414.34888849,\n",
       "          414.36231012,  414.3901755 ,  414.40385647,  414.41011339,\n",
       "          414.41091761,  414.42165493,  414.49045532,  414.51346707,\n",
       "          414.54996353,  414.58502359,  414.62455219,  414.65593897,\n",
       "          414.66934832,  414.68951941,  414.77462997,  414.83561212,\n",
       "          414.90902243,  414.93564124,  415.03313129,  415.04279556,\n",
       "          415.11283788,  415.11444375,  415.16024513,  415.18263776,\n",
       "          415.22232129,  415.27385158,  415.28415577,  415.36324758,\n",
       "          415.37346216,  415.39288695,  415.41112594,  415.55291742,\n",
       "          415.57956635,  415.66355101,  415.67177033,  415.73333898,\n",
       "          415.7494579 ,  415.7576536 ,  415.7812769 ,  415.81514317,\n",
       "          415.89250219,  415.92207757,  415.93214384,  415.96440859,\n",
       "          415.9814915 ,  416.05741436,  416.0811948 ,  416.1485316 ,\n",
       "          416.20612639,  416.21836241,  416.2549654 ,  416.31820047,\n",
       "          416.35199199,  416.40105248,  416.43735192,  416.45966633,\n",
       "          416.47123618,  416.47691883,  416.51867596,  416.52194165,\n",
       "          416.52278758,  416.57350256,  416.62877737,  416.65401634,\n",
       "          416.66696242,  416.78319363,  416.79668372,  416.80958077,\n",
       "          416.81203895,  416.95629063,  416.96854102,  417.03561087,\n",
       "          417.14299718,  417.1461135 ,  417.18725564,  417.23919003,\n",
       "          417.30342498,  417.34297274,  417.45189155,  417.46433369,\n",
       "          417.5311782 ,  417.53223063,  417.54556946,  417.59582941,\n",
       "          417.70417437,  417.75176756,  417.76982256,  417.83416059,\n",
       "          417.87699901,  417.88884964,  417.94412603,  417.9481596 ,\n",
       "          418.05296227,  418.07359749,  418.08910587,  418.14400871,\n",
       "          418.22120826,  418.26458717,  418.30464314,  418.36718043,\n",
       "          418.51746035,  418.53568679,  418.58102867,  418.58356631,\n",
       "          418.76263632,  418.79318668,  418.91270477,  419.10708779,\n",
       "          419.29620502,  419.4106052 ,  419.43307476,  419.44242218,\n",
       "          419.63406669,  419.66575358,  419.71136446,  419.76626606,\n",
       "          419.78022812,  419.8622473 ,  420.08800488,  420.14459524,\n",
       "          420.1932949 ,  420.24550248,  420.29018737,  420.38235207,\n",
       "          420.39991861,  420.40034518,  420.43028382,  420.63301464,\n",
       "          420.71702175,  420.79339275,  420.88569205,  420.88856003,\n",
       "          420.99381433,  421.00953572,  421.09697372,  421.25394397,\n",
       "          421.25752191,  421.47471972,  421.531203  ,  421.53667244,\n",
       "          421.70712817,  421.77303418,  421.80605325,  422.01739106,\n",
       "          422.11534447,  422.28799517,  422.38692951,  422.86800329,\n",
       "          422.89923624,  423.89904391,  424.06130755,  424.1381929 ,\n",
       "          424.77316613,  424.87128387,  424.99519323,  425.33022466,\n",
       "          425.63918585,  425.98517442,  426.19084489,  426.25973871,\n",
       "          426.39535944,  426.58880728,  426.97279262,  427.00081949,\n",
       "          427.01690646,  432.39525154,  434.21357757,  436.70646235])),\n",
       " (0.0087350010529190867, -2073.9751794442273, 0.99769482862873771))"
      ]
     },
     "execution_count": 32,
     "metadata": {},
     "output_type": "execute_result"
    },
    {
     "data": {
      "image/png": "[encoded data removed]",
      "text/plain": [
       "<matplotlib.figure.Figure at 0x7f65e8a6ad10>"
      ]
     },
     "metadata": {},
     "output_type": "display_data"
    }
   ],
   "source": [
    "scipy.stats.probplot(control_boot_chi_squared, dist=\"chi2\", \n",
    "                     sparams=(n-1), plot=plt)"
   ]
  },
  {
   "cell_type": "markdown",
   "metadata": {},
   "source": [
    "# 5\n",
    "Одним из возможных аналогов t-критерия, которым можно воспрользоваться, является тест Манна-Уитни. На достаточно обширном классе распределений он является асимптотически более эффективным, чем t-критерий, и при этом не требует параметрических предположений о характере распределения.\n",
    "\n",
    "Разделите выборку на две части, соответствующие control и exp группам. Преобразуйте данные к виду, чтобы каждому пользователю соответствовало суммарное значение его кликов. С помощью критерия Манна-Уитни проверьте гипотезу о равенстве средних. Что можно сказать о получившемся значении достигаемого уровня значимости ? Выберите все правильные ответы"
   ]
  },
  {
   "cell_type": "code",
   "execution_count": 83,
   "metadata": {
    "collapsed": false
   },
   "outputs": [],
   "source": [
    "exp_mean_user_clicks = data[data.slot == 'exp'].groupby('userID').aggregate(np.sum).n_clicks.tolist()"
   ]
  },
  {
   "cell_type": "code",
   "execution_count": 84,
   "metadata": {
    "collapsed": true
   },
   "outputs": [],
   "source": [
    "control_mean_user_clicks = data[data.slot == 'control'].groupby('userID').aggregate(np.sum).n_clicks.tolist()"
   ]
  },
  {
   "cell_type": "markdown",
   "metadata": {},
   "source": [
    "$H_0\\colon F_{X_1}(x) = F_{X_2}(x)$\n",
    "\n",
    "$H_1\\colon F_{X_1}(x) = F_{X_2}(x + \\Delta), \\Delta\\neq 0$"
   ]
  },
  {
   "cell_type": "code",
   "execution_count": 85,
   "metadata": {
    "collapsed": false
   },
   "outputs": [
    {
     "data": {
      "text/plain": [
       "MannwhitneyuResult(statistic=41140868471.0, pvalue=3.1266857702625713e-74)"
      ]
     },
     "execution_count": 85,
     "metadata": {},
     "output_type": "execute_result"
    }
   ],
   "source": [
    "stats.mannwhitneyu(exp_mean_user_clicks, control_mean_user_clicks)"
   ]
  },
  {
   "cell_type": "markdown",
   "metadata": {},
   "source": [
    "# 6\n",
    "Проверьте, для какого из браузеров наиболее сильно выражено отличие между количеством кликов в контрольной и экспериментальной группах.\n",
    "\n",
    "Для этого примените для каждого из срезов (по каждому из уникальных значений столбца browser) критерий Манна-Уитни между control и exp группами и сделайте поправку Холма-Бонферрони на множественную проверку с α=0.05.\n",
    "\n",
    "Какое заключение можно сделать исходя из полученных результатов ?\n",
    "\n",
    "В качестве ответа введите количество незначимых изменений с точки зрения результатов, полученных после введения коррекции."
   ]
  },
  {
   "cell_type": "code",
   "execution_count": 62,
   "metadata": {
    "collapsed": true
   },
   "outputs": [],
   "source": [
    "from statsmodels.sandbox.stats.multicomp import multipletests "
   ]
  },
  {
   "cell_type": "code",
   "execution_count": 86,
   "metadata": {
    "collapsed": false
   },
   "outputs": [],
   "source": [
    "p_values = []\n",
    "for curr_browser in data.browser.value_counts().keys():\n",
    "    p_values.append(scipy.stats.mannwhitneyu(\n",
    "            data[(data.browser == curr_browser) & (data.slot == 'exp')].n_clicks.values,\n",
    "            data[(data.browser == curr_browser) & (data.slot == 'control')].n_clicks.values,\n",
    "            alternative='two-sided')[1])"
   ]
  },
  {
   "cell_type": "code",
   "execution_count": 87,
   "metadata": {
    "collapsed": false
   },
   "outputs": [
    {
     "data": {
      "text/plain": [
       "1"
      ]
     },
     "execution_count": 87,
     "metadata": {},
     "output_type": "execute_result"
    }
   ],
   "source": [
    "sum(map(lambda x: x < 0.05, p_values))"
   ]
  },
  {
   "cell_type": "code",
   "execution_count": 90,
   "metadata": {
    "collapsed": false
   },
   "outputs": [
    {
     "data": {
      "text/plain": [
       "[0.81556888807591688,\n",
       " 0.51616652908421157,\n",
       " 0.055799789937236381,\n",
       " 0.0,\n",
       " 0.90754133162630202,\n",
       " 0.075379905635521299]"
      ]
     },
     "execution_count": 90,
     "metadata": {},
     "output_type": "execute_result"
    }
   ],
   "source": [
    "p_values"
   ]
  },
  {
   "cell_type": "code",
   "execution_count": 88,
   "metadata": {
    "collapsed": true
   },
   "outputs": [],
   "source": [
    "reject, p_corrected, a1, a2 = multipletests(p_values, \n",
    "                                            alpha = 0.05, \n",
    "                                            method = 'holm') "
   ]
  },
  {
   "cell_type": "code",
   "execution_count": 91,
   "metadata": {
    "collapsed": false
   },
   "outputs": [
    {
     "data": {
      "text/plain": [
       "array([ 1.        ,  1.        ,  0.27899895,  0.        ,  1.        ,\n",
       "        0.30151962])"
      ]
     },
     "execution_count": 91,
     "metadata": {},
     "output_type": "execute_result"
    }
   ],
   "source": [
    "p_corrected"
   ]
  },
  {
   "cell_type": "code",
   "execution_count": 89,
   "metadata": {
    "collapsed": false
   },
   "outputs": [
    {
     "data": {
      "text/plain": [
       "1"
      ]
     },
     "execution_count": 89,
     "metadata": {},
     "output_type": "execute_result"
    }
   ],
   "source": [
    "sum(reject)"
   ]
  },
  {
   "cell_type": "markdown",
   "metadata": {},
   "source": [
    "# 7\n",
    "Для каждого браузера в каждой из двух групп (control и exp) посчитайте долю запросов, в которых пользователь не кликнул ни разу. Это можно сделать, поделив сумму значений n_nonclk_queries на сумму значений n_queries. Умножив это значение на 100, получим процент некликнутых запросов, который можно легче проинтерпретировать.\n",
    "\n",
    "Сходятся ли результаты проведенного Вами анализа с показателем процента некликнутых запросов ? Отметьте все верные утверждения."
   ]
  },
  {
   "cell_type": "code",
   "execution_count": 76,
   "metadata": {
    "collapsed": false
   },
   "outputs": [],
   "source": [
    "browser_clicks_exp = {}\n",
    "for curr_browser in data.browser.value_counts().keys():\n",
    "    browser_clicks_exp[curr_browser] = \\\n",
    "        float(sum(data[(data.browser == curr_browser) & (data.slot == 'exp')].n_nonclk_queries.values))\\\n",
    "            /sum(data[(data.browser == curr_browser) & (data.slot == 'exp')].n_queries.values)"
   ]
  },
  {
   "cell_type": "code",
   "execution_count": 77,
   "metadata": {
    "collapsed": false
   },
   "outputs": [
    {
     "name": "stdout",
     "output_type": "stream",
     "text": [
      "Browser #2 44.9827469486\n",
      "Browser #4 45.1429419036\n",
      "Browser #22 39.8539472197\n",
      "Browser #20 38.9773764837\n",
      "Browser #17 36.9374128487\n",
      "Browser #14 43.7556173613\n"
     ]
    }
   ],
   "source": [
    "for curr_browser, clicks in browser_clicks_exp.iteritems():\n",
    "    print curr_browser, clicks*100.0"
   ]
  },
  {
   "cell_type": "code",
   "execution_count": 78,
   "metadata": {
    "collapsed": true
   },
   "outputs": [],
   "source": [
    "browser_clicks_control = {}\n",
    "for curr_browser in data.browser.value_counts().keys():\n",
    "    browser_clicks_control[curr_browser] = \\\n",
    "        float(sum(data[(data.browser == curr_browser) & (data.slot == 'control')].n_nonclk_queries.values))\\\n",
    "            /sum(data[(data.browser == curr_browser) & (data.slot == 'control')].n_queries.values)"
   ]
  },
  {
   "cell_type": "code",
   "execution_count": 79,
   "metadata": {
    "collapsed": false
   },
   "outputs": [
    {
     "name": "stdout",
     "output_type": "stream",
     "text": [
      "Browser #2 45.9627471792\n",
      "Browser #4 46.9709296351\n",
      "Browser #22 40.5939765935\n",
      "Browser #20 40.5404847434\n",
      "Browser #17 36.2993667463\n",
      "Browser #14 57.5904113601\n"
     ]
    }
   ],
   "source": [
    "for curr_browser, clicks in browser_clicks_control.iteritems():\n",
    "    print curr_browser, clicks*100.0"
   ]
  },
  {
   "cell_type": "code",
   "execution_count": null,
   "metadata": {
    "collapsed": true
   },
   "outputs": [],
   "source": []
  }
 ],
 "metadata": {
  "kernelspec": {
   "display_name": "Python 2",
   "language": "python",
   "name": "python2"
  },
  "language_info": {
   "codemirror_mode": {
    "name": "ipython",
    "version": 2
   },
   "file_extension": ".py",
   "mimetype": "text/x-python",
   "name": "python",
   "nbconvert_exporter": "python",
   "pygments_lexer": "ipython2",
   "version": "2.7.11"
  }
 },
 "nbformat": 4,
 "nbformat_minor": 0
}
